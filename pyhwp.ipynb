{
 "cells": [
  {
   "cell_type": "code",
   "execution_count": 85,
   "metadata": {},
   "outputs": [],
   "source": [
    "## reference : https://www.youtube.com/watch?v=1pC_UXhiJH8&t=48s\n",
    "import win32com.client as win32\n",
    "import pandas as pd\n",
    "\n",
    "hwp = win32.Dispatch(\"HWPFrame.HwpObject\")\n",
    "#hwp=win32.gencache.EnsureDispatch(\"HWPFrame.HwpObject\")\n",
    "excel = pd.read_excel(\"award.xlsx\")\n"
   ]
  },
  {
   "cell_type": "code",
   "execution_count": 86,
   "metadata": {},
   "outputs": [
    {
     "data": {
      "text/plain": [
       "True"
      ]
     },
     "execution_count": 86,
     "metadata": {},
     "output_type": "execute_result"
    }
   ],
   "source": [
    "hwp.Open(\"E:/Python/pyHWP/award.hwp\")"
   ]
  },
  {
   "cell_type": "code",
   "execution_count": 87,
   "metadata": {},
   "outputs": [
    {
     "data": {
      "text/plain": [
       "'일련번호{{1}}\\x02상이름{{1}}\\x02수상자이름{{1}}\\x02본문수상자이름{{1}}\\x02시상일{{1}}'"
      ]
     },
     "execution_count": 87,
     "metadata": {},
     "output_type": "execute_result"
    }
   ],
   "source": [
    "hwp.GetFieldList()\n",
    "hwp.GetFieldList(1)\n",
    "hwp.GetFieldList(2)"
   ]
  },
  {
   "cell_type": "code",
   "execution_count": 88,
   "metadata": {},
   "outputs": [
    {
     "data": {
      "text/plain": [
       "['일련번호', '상이름', '수상자이름', '본문수상자이름', '시상일']"
      ]
     },
     "execution_count": 88,
     "metadata": {},
     "output_type": "execute_result"
    }
   ],
   "source": [
    "field_list = [i for i in hwp.GetFieldList().split(\"\\x02\")]\n",
    "field_list"
   ]
  },
  {
   "cell_type": "code",
   "execution_count": 89,
   "metadata": {},
   "outputs": [
    {
     "data": {
      "text/plain": [
       "True"
      ]
     },
     "execution_count": 89,
     "metadata": {},
     "output_type": "execute_result"
    }
   ],
   "source": [
    "##옵션\n",
    "hwp.Run(\"SelectAll\")\n",
    "hwp.Run(\"Copy\")\n",
    "##맨아래 커서\n",
    "hwp.MovePos(3)"
   ]
  },
  {
   "cell_type": "code",
   "execution_count": 90,
   "metadata": {},
   "outputs": [],
   "source": [
    "for i in range(len(excel) - 1):\n",
    "    hwp.Run(\"Paste\")\n",
    "    hwp.MovePos(3)"
   ]
  },
  {
   "cell_type": "code",
   "execution_count": 91,
   "metadata": {},
   "outputs": [],
   "source": [
    "for page in range(len(excel)):\n",
    "    for field in field_list:\n",
    "        hwp.PutFieldText(f'{field}{{{{{page}}}}}',\n",
    "                         excel[field].iloc[page])"
   ]
  }
 ],
 "metadata": {
  "interpreter": {
   "hash": "e26550a99b8cdaeca938eba5dfe93bbe201b1984deb8af224ca0d45a986faa87"
  },
  "kernelspec": {
   "display_name": "Python 3.9.9 64-bit (windows store)",
   "language": "python",
   "name": "python3"
  },
  "language_info": {
   "codemirror_mode": {
    "name": "ipython",
    "version": 3
   },
   "file_extension": ".py",
   "mimetype": "text/x-python",
   "name": "python",
   "nbconvert_exporter": "python",
   "pygments_lexer": "ipython3",
   "version": "3.9.9"
  },
  "orig_nbformat": 4
 },
 "nbformat": 4,
 "nbformat_minor": 2
}
